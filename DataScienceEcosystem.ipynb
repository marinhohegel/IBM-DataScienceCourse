{
 "cells": [
  {
   "cell_type": "markdown",
   "id": "4296c6ef-91ef-419b-99ca-94392f703853",
   "metadata": {},
   "source": [
    "# Data Science Tools and Ecosystem"
   ]
  },
  {
   "cell_type": "markdown",
   "id": "e1178d24-d33b-426c-a3d2-ed6b720c7c5c",
   "metadata": {},
   "source": [
    "In this notebook, Data Science Tools and Ecosystem are summarized.\n",
    "This is a notebook study project that the IBM is teaching how to use Jupyter Notebooks and Git/Github"
   ]
  },
  {
   "cell_type": "markdown",
   "id": "aa52dfd2-998c-4f95-8109-f2078c9f577c",
   "metadata": {},
   "source": [
    "Some of the popular languages that Data Scientists use are:\n",
    "1. Python\n",
    "2. R\n",
    "3. Julia"
   ]
  },
  {
   "cell_type": "markdown",
   "id": "883eab8f-f47b-4bd2-9f26-db8c69b33852",
   "metadata": {},
   "source": [
    "Some of the commonly used libraries used by Data Scientists include:\n",
    "1. Pandas\n",
    "2. Numpy\n",
    "3. Pyplot\n",
    "4. Matplotlib\n",
    "5. Seaborn\n",
    "6. scikit-learn"
   ]
  },
  {
   "cell_type": "markdown",
   "id": "91c18e55-6594-42bf-bb00-28cc23f7f839",
   "metadata": {},
   "source": [
    "| Data Science Tools |\n",
    "| -------------------|\n",
    "| Python IDLE |\n",
    "| Rstudio |\n",
    "| Jupyter Notebooks |\n",
    "| SQL |"
   ]
  },
  {
   "cell_type": "markdown",
   "id": "4709deeb-9ac3-44ee-bba0-e7f65e772883",
   "metadata": {},
   "source": [
    "### Below are a few examples of evaluating arithmetic expressions in Python \n",
    "\n",
    "1+1=2 \n",
    "\n",
    "2*3=6\n",
    "\n",
    "2**3=8"
   ]
  },
  {
   "cell_type": "code",
   "execution_count": 2,
   "id": "30bcd661-456f-4b33-86d6-380304d7957c",
   "metadata": {
    "scrolled": true
   },
   "outputs": [
    {
     "data": {
      "text/plain": [
       "17"
      ]
     },
     "execution_count": 2,
     "metadata": {},
     "output_type": "execute_result"
    }
   ],
   "source": [
    "# This a simple arithmetic expression to mutiply then add integers \n",
    "\n",
    "(3*4)+5"
   ]
  },
  {
   "cell_type": "code",
   "execution_count": 12,
   "id": "dea4f5ac-65ba-4af2-bc43-8f0f5e3096cb",
   "metadata": {},
   "outputs": [
    {
     "name": "stdout",
     "output_type": "stream",
     "text": [
      "To transform 200 minutes we need to divide by 60, then 200/60 = 3.3333333333333335 hours\n"
     ]
    }
   ],
   "source": [
    "# This will convert 200 minutes to hours by diving by 60\n",
    "\n",
    "t = 200/60\n",
    "print(f'To transform 200 minutes we need to divide by 60, then 200/60 = {t} hours')"
   ]
  },
  {
   "cell_type": "markdown",
   "id": "2a926431-0235-45d0-ae8f-52ad7c583f8b",
   "metadata": {},
   "source": [
    "__Objectives:__  \n",
    "- Learn Python, R and SQL\n",
    "- Learn Statistics, Mathematics and Specifics Subjects\n",
    "- Use softwares like Hadoop, Git to help DevOps"
   ]
  },
  {
   "cell_type": "markdown",
   "id": "db9c54f0-d38c-4caa-99be-0789f47c765c",
   "metadata": {},
   "source": [
    "## Author\n",
    "Hegel Marinho Viana Filho\n"
   ]
  }
 ],
 "metadata": {
  "kernelspec": {
   "display_name": "Python 3 (ipykernel)",
   "language": "python",
   "name": "python3"
  },
  "language_info": {
   "codemirror_mode": {
    "name": "ipython",
    "version": 3
   },
   "file_extension": ".py",
   "mimetype": "text/x-python",
   "name": "python",
   "nbconvert_exporter": "python",
   "pygments_lexer": "ipython3",
   "version": "3.11.7"
  }
 },
 "nbformat": 4,
 "nbformat_minor": 5
}
